{
  "nbformat": 4,
  "nbformat_minor": 0,
  "metadata": {
    "colab": {
      "provenance": [],
      "authorship_tag": "ABX9TyPuUHzyZWoptD7qjgMxVwC2",
      "include_colab_link": true
    },
    "kernelspec": {
      "name": "python3",
      "display_name": "Python 3"
    },
    "language_info": {
      "name": "python"
    }
  },
  "cells": [
    {
      "cell_type": "markdown",
      "metadata": {
        "id": "view-in-github",
        "colab_type": "text"
      },
      "source": [
        "<a href=\"https://colab.research.google.com/github/SonnetSaif/vision-transformer-from-scratch_PyTorch/blob/main/vision_transformer_PyTorch.ipynb\" target=\"_parent\"><img src=\"https://colab.research.google.com/assets/colab-badge.svg\" alt=\"Open In Colab\"/></a>"
      ]
    },
    {
      "cell_type": "code",
      "source": [
        "!pip install einops"
      ],
      "metadata": {
        "colab": {
          "base_uri": "https://localhost:8080/"
        },
        "id": "Lb9PddoPsPxI",
        "outputId": "e3b83af4-5160-495d-eda9-20c14d410421"
      },
      "execution_count": 16,
      "outputs": [
        {
          "output_type": "stream",
          "name": "stdout",
          "text": [
            "Collecting einops\n",
            "  Downloading einops-0.7.0-py3-none-any.whl (44 kB)\n",
            "\u001b[?25l     \u001b[90m━━━━━━━━━━━━━━━━━━━━━━━━━━━━━━━━━━━━━━━━\u001b[0m \u001b[32m0.0/44.6 kB\u001b[0m \u001b[31m?\u001b[0m eta \u001b[36m-:--:--\u001b[0m\r\u001b[2K     \u001b[90m━━━━━━━━━━━━━━━━━━━━━━━━━━━━━━━━━━━━━━━━\u001b[0m \u001b[32m44.6/44.6 kB\u001b[0m \u001b[31m1.3 MB/s\u001b[0m eta \u001b[36m0:00:00\u001b[0m\n",
            "\u001b[?25hInstalling collected packages: einops\n",
            "Successfully installed einops-0.7.0\n"
          ]
        }
      ]
    },
    {
      "cell_type": "code",
      "source": [
        "import torch\n",
        "import torch.nn as nn\n",
        "from torchvision.datasets import OxfordIIITPet\n",
        "from torchvision.transforms import Resize, ToTensor"
      ],
      "metadata": {
        "id": "aWO7AGUg-fHS"
      },
      "execution_count": 2,
      "outputs": []
    },
    {
      "cell_type": "code",
      "source": [
        "to_tensor = [Resize((144, 144)), ToTensor()]\n",
        "\n",
        "class Compose(object):\n",
        "    def __init__(self, transforms):\n",
        "        self.transforms = transforms\n",
        "\n",
        "    def __call__(self, image, target):\n",
        "        for t in self.transforms:\n",
        "            image = t(image)\n",
        "        return image, target"
      ],
      "metadata": {
        "id": "7_TTY9s9Beyd"
      },
      "execution_count": 3,
      "outputs": []
    },
    {
      "cell_type": "code",
      "source": [
        "dataset = OxfordIIITPet(root=\".\", download=True, transforms=Compose(to_tensor))"
      ],
      "metadata": {
        "id": "svAXLzqpBLY2",
        "colab": {
          "base_uri": "https://localhost:8080/"
        },
        "outputId": "94f959d9-1768-4cec-f111-0248af9f091f"
      },
      "execution_count": 4,
      "outputs": [
        {
          "output_type": "stream",
          "name": "stdout",
          "text": [
            "Downloading https://thor.robots.ox.ac.uk/datasets/pets/images.tar.gz to oxford-iiit-pet/images.tar.gz\n"
          ]
        },
        {
          "output_type": "stream",
          "name": "stderr",
          "text": [
            "100%|██████████| 791918971/791918971 [00:20<00:00, 37869133.34it/s]\n"
          ]
        },
        {
          "output_type": "stream",
          "name": "stdout",
          "text": [
            "Extracting oxford-iiit-pet/images.tar.gz to oxford-iiit-pet\n",
            "Downloading https://thor.robots.ox.ac.uk/datasets/pets/annotations.tar.gz to oxford-iiit-pet/annotations.tar.gz\n"
          ]
        },
        {
          "output_type": "stream",
          "name": "stderr",
          "text": [
            "100%|██████████| 19173078/19173078 [00:01<00:00, 16389472.73it/s]\n"
          ]
        },
        {
          "output_type": "stream",
          "name": "stdout",
          "text": [
            "Extracting oxford-iiit-pet/annotations.tar.gz to oxford-iiit-pet\n"
          ]
        }
      ]
    },
    {
      "cell_type": "markdown",
      "source": [
        "# Input Embedding"
      ],
      "metadata": {
        "id": "AHgjavAxWJRo"
      }
    },
    {
      "cell_type": "code",
      "execution_count": 5,
      "metadata": {
        "id": "xMrE4T5LywXN"
      },
      "outputs": [],
      "source": [
        "class PatchEmbedding(nn.Module):\n",
        "  def __init__(self, in_channels, patch_size, embed_dim):\n",
        "    super().__init__()\n",
        "    self.patch = nn.Conv2d(\n",
        "        in_channels=in_channels,\n",
        "        out_channels=embed_dim,\n",
        "        kernel_size=patch_size,\n",
        "        stride=patch_size\n",
        "    )\n",
        "\n",
        "  def forward(self, x):\n",
        "    # Flatten along dim = 2 to maintain channel dimension.\n",
        "    patches = self.patch(x)\n",
        "    print(\"after patch\", patches.shape)\n",
        "    patches = patches.flatten(2)\n",
        "    print(\"after flatten\", patches.shape)\n",
        "    patches = patches.transpose(1, 2)\n",
        "    print(\"after transpose\", patches.shape)\n",
        "    return patches"
      ]
    },
    {
      "cell_type": "code",
      "source": [
        "first = dataset[0][0]\n",
        "print(\"Initial shape:\", first.shape)\n",
        "sample_datapoint = torch.unsqueeze(dataset[0][0], 0)\n",
        "print(\"after unsqueeze: \", sample_datapoint.shape)\n",
        "embedding = PatchEmbedding(3, 8, 128)(sample_datapoint)\n",
        "print(\"final Patches shape: \", embedding.shape)"
      ],
      "metadata": {
        "colab": {
          "base_uri": "https://localhost:8080/"
        },
        "id": "I8VDYLjR_Hl8",
        "outputId": "9d96aec7-84ec-48b4-d318-2ebdf26d9027"
      },
      "execution_count": 6,
      "outputs": [
        {
          "output_type": "stream",
          "name": "stdout",
          "text": [
            "Initial shape: torch.Size([3, 144, 144])\n",
            "after unsqueeze:  torch.Size([1, 3, 144, 144])\n",
            "after patch torch.Size([1, 128, 18, 18])\n",
            "after flatten torch.Size([1, 128, 324])\n",
            "after transpose torch.Size([1, 324, 128])\n",
            "final Patches shape:  torch.Size([1, 324, 128])\n"
          ]
        }
      ]
    },
    {
      "cell_type": "markdown",
      "source": [
        "# Multi-Head Attention"
      ],
      "metadata": {
        "id": "-AVDcBI7WBAS"
      }
    },
    {
      "cell_type": "markdown",
      "source": [
        "Attention"
      ],
      "metadata": {
        "id": "kRqiduqJYwoK"
      }
    },
    {
      "cell_type": "code",
      "source": [
        "class AttentionBlock(nn.Module):\n",
        "  def __init__(self, embed_dim, n_heads, dropout):\n",
        "    super().__init__()\n",
        "    self.n_heads = n_heads\n",
        "    self.attention = torch.nn.MultiheadAttention(embed_dim = embed_dim,\n",
        "                                                 num_heads = n_heads,\n",
        "                                                 dropout = dropout)\n",
        "\n",
        "    self.q = nn.Linear(embed_dim, embed_dim)\n",
        "    self.k = nn.Linear(embed_dim, embed_dim)\n",
        "    self.v = nn.Linear(embed_dim, embed_dim)\n",
        "\n",
        "  def forward(self, x):\n",
        "    q = self.q(x)\n",
        "    k = self.q(x)\n",
        "    v = self.q(x)\n",
        "    attention_output, attention_output_weights = self.attention(q, k, v)\n",
        "    return attention_output"
      ],
      "metadata": {
        "id": "M3oXh2ZvDhRX"
      },
      "execution_count": 7,
      "outputs": []
    },
    {
      "cell_type": "code",
      "source": [
        "AttentionBlock(embed_dim=128, n_heads=4, dropout=0.)\n",
        "# AttentionBlock(128, 4, 0.)"
      ],
      "metadata": {
        "colab": {
          "base_uri": "https://localhost:8080/"
        },
        "id": "zzxXF-4UDSk3",
        "outputId": "ac1788c4-f3b0-44e9-a063-57e895e24bce"
      },
      "execution_count": 8,
      "outputs": [
        {
          "output_type": "execute_result",
          "data": {
            "text/plain": [
              "AttentionBlock(\n",
              "  (attention): MultiheadAttention(\n",
              "    (out_proj): NonDynamicallyQuantizableLinear(in_features=128, out_features=128, bias=True)\n",
              "  )\n",
              "  (q): Linear(in_features=128, out_features=128, bias=True)\n",
              "  (k): Linear(in_features=128, out_features=128, bias=True)\n",
              "  (v): Linear(in_features=128, out_features=128, bias=True)\n",
              ")"
            ]
          },
          "metadata": {},
          "execution_count": 8
        }
      ]
    },
    {
      "cell_type": "markdown",
      "source": [
        "Layer Normalization"
      ],
      "metadata": {
        "id": "DqM7w1bDW4Zb"
      }
    },
    {
      "cell_type": "code",
      "source": [
        "class LayerNorm(nn.Module):\n",
        "  def __init__(self, embed_dim, fn):\n",
        "    super().__init__()\n",
        "    self.norm = nn.LayerNorm(embed_dim)\n",
        "    self.fn = fn\n",
        "\n",
        "  def forward(self, x):\n",
        "    return self.fn(self.norm(x))"
      ],
      "metadata": {
        "id": "eKcymUHwEN6R"
      },
      "execution_count": 9,
      "outputs": []
    },
    {
      "cell_type": "code",
      "source": [
        "norm = LayerNorm(128, AttentionBlock(embed_dim=128, n_heads=4, dropout=0.))"
      ],
      "metadata": {
        "id": "fDlzhy7OXYhy"
      },
      "execution_count": 10,
      "outputs": []
    },
    {
      "cell_type": "markdown",
      "source": [
        "Feed Forward"
      ],
      "metadata": {
        "id": "D-AkjEMgSQ9Y"
      }
    },
    {
      "cell_type": "code",
      "source": [
        "class FeedForward(nn.Module):\n",
        "  def __init__(self, embed_dim, hidden_dim, dropout):\n",
        "    super().__init__()\n",
        "    self.feedForward = nn.Sequential(\n",
        "        nn.Linear(embed_dim, hidden_dim),\n",
        "        nn.GELU(),\n",
        "        nn.Linear(hidden_dim, embed_dim),\n",
        "        nn.Dropout(dropout)\n",
        "    )\n",
        "\n",
        "  def forward(self, x):\n",
        "    return self.feedForward(x)"
      ],
      "metadata": {
        "id": "BVVvoBMDXzKq"
      },
      "execution_count": 11,
      "outputs": []
    },
    {
      "cell_type": "code",
      "source": [
        "feedForward = FeedForward(embed_dim=128, hidden_dim=256, dropout=0.)"
      ],
      "metadata": {
        "id": "6CKAWY8ZbCKO"
      },
      "execution_count": 12,
      "outputs": []
    },
    {
      "cell_type": "markdown",
      "source": [
        "Residuals"
      ],
      "metadata": {
        "id": "yMGVjjpGefzR"
      }
    },
    {
      "cell_type": "code",
      "source": [
        "class Residuals(nn.Module):\n",
        "  def __init__(self, fn):\n",
        "    super().__init__()\n",
        "    self.fn = fn\n",
        "\n",
        "  def forward(self, x):\n",
        "    res = x\n",
        "    x = self.fn(x)\n",
        "    x += res\n",
        "    return x"
      ],
      "metadata": {
        "id": "hg7Fc7SPeRWJ"
      },
      "execution_count": 13,
      "outputs": []
    },
    {
      "cell_type": "code",
      "source": [
        "residual = Residuals(AttentionBlock(embed_dim=128, n_heads=4, dropout=0.))"
      ],
      "metadata": {
        "id": "RgOfBZg0fcLl"
      },
      "execution_count": 14,
      "outputs": []
    },
    {
      "cell_type": "code",
      "source": [
        "embed_dim = 128\n",
        "n_head = 4\n",
        "dropout = 0.1\n",
        "patch_size = 4\n",
        "in_channels = 3\n",
        "img_size = 144\n",
        "n_layers = 6\n",
        "out_dim = 37"
      ],
      "metadata": {
        "id": "2Cje2JOqfs7-"
      },
      "execution_count": 20,
      "outputs": []
    },
    {
      "cell_type": "code",
      "source": [
        "from einops import repeat\n",
        "\n",
        "class ViT(nn.Module):\n",
        "    def __init__(self, ch=in_channels, img_size=img_size, patch_size=patch_size, emb_dim=embed_dim,\n",
        "                n_layers=n_layers, out_dim=out_dim, dropout=dropout, heads=n_head):\n",
        "        super(ViT, self).__init__()\n",
        "\n",
        "        # Attributes\n",
        "        self.channels = ch\n",
        "        self.height = img_size\n",
        "        self.width = img_size\n",
        "        self.patch_size = patch_size\n",
        "        self.n_layers = n_layers\n",
        "\n",
        "        # Patching\n",
        "        self.patch_embedding = PatchEmbedding(in_channels=ch,\n",
        "                                              patch_size=patch_size,\n",
        "                                              embed_dim=emb_dim)\n",
        "        # Learnable params\n",
        "        num_patches = (img_size // patch_size) ** 2\n",
        "        self.pos_embedding = nn.Parameter(\n",
        "            torch.randn(1, num_patches + 1, emb_dim))\n",
        "        self.cls_token = nn.Parameter(torch.rand(1, 1, emb_dim))\n",
        "\n",
        "        # Transformer Encoder\n",
        "        self.layers = nn.ModuleList([])\n",
        "        for _ in range(n_layers):\n",
        "            transformer_block = nn.Sequential(\n",
        "                Residuals(LayerNorm(emb_dim, AttentionBlock(emb_dim, n_heads = heads, dropout = dropout))),\n",
        "                Residuals(LayerNorm(emb_dim, FeedForward(emb_dim, emb_dim, dropout = dropout))))\n",
        "            self.layers.append(transformer_block)\n",
        "\n",
        "        # Classification head\n",
        "        self.head = nn.Sequential(nn.LayerNorm(emb_dim), nn.Linear(emb_dim, out_dim))\n",
        "\n",
        "\n",
        "    def forward(self, img):\n",
        "        # Get patch embedding vectors\n",
        "        x = self.patch_embedding(img)\n",
        "        b, n, _ = x.shape\n",
        "\n",
        "        # Add cls token to inputs\n",
        "        cls_tokens = repeat(self.cls_token, '1 1 d -> b 1 d', b = b)\n",
        "        x = torch.cat([cls_tokens, x], dim=1)\n",
        "        x += self.pos_embedding[:, :(n + 1)]\n",
        "\n",
        "        # Transformer layers\n",
        "        for i in range(self.n_layers):\n",
        "            x = self.layers[i](x)\n",
        "\n",
        "        # Output based on classification token\n",
        "        return self.head(x[:, 0, :])"
      ],
      "metadata": {
        "id": "K65wksqqp5dS"
      },
      "execution_count": 23,
      "outputs": []
    },
    {
      "cell_type": "code",
      "source": [
        "model = ViT()\n",
        "print(model)\n",
        "model(torch.ones((1, 3, 144, 144)))"
      ],
      "metadata": {
        "colab": {
          "base_uri": "https://localhost:8080/"
        },
        "id": "816MEol6rxlj",
        "outputId": "e55473e2-28fb-4cb2-8d05-5f4587c3032e"
      },
      "execution_count": 24,
      "outputs": [
        {
          "output_type": "stream",
          "name": "stdout",
          "text": [
            "ViT(\n",
            "  (patch_embedding): PatchEmbedding(\n",
            "    (patch): Conv2d(3, 32, kernel_size=(4, 4), stride=(4, 4))\n",
            "  )\n",
            "  (layers): ModuleList(\n",
            "    (0-5): 6 x Sequential(\n",
            "      (0): Residuals(\n",
            "        (fn): LayerNorm(\n",
            "          (norm): LayerNorm((32,), eps=1e-05, elementwise_affine=True)\n",
            "          (fn): AttentionBlock(\n",
            "            (attention): MultiheadAttention(\n",
            "              (out_proj): NonDynamicallyQuantizableLinear(in_features=32, out_features=32, bias=True)\n",
            "            )\n",
            "            (q): Linear(in_features=32, out_features=32, bias=True)\n",
            "            (k): Linear(in_features=32, out_features=32, bias=True)\n",
            "            (v): Linear(in_features=32, out_features=32, bias=True)\n",
            "          )\n",
            "        )\n",
            "      )\n",
            "      (1): Residuals(\n",
            "        (fn): LayerNorm(\n",
            "          (norm): LayerNorm((32,), eps=1e-05, elementwise_affine=True)\n",
            "          (fn): FeedForward(\n",
            "            (feedForward): Sequential(\n",
            "              (0): Linear(in_features=32, out_features=32, bias=True)\n",
            "              (1): GELU(approximate='none')\n",
            "              (2): Linear(in_features=32, out_features=32, bias=True)\n",
            "              (3): Dropout(p=0.1, inplace=False)\n",
            "            )\n",
            "          )\n",
            "        )\n",
            "      )\n",
            "    )\n",
            "  )\n",
            "  (head): Sequential(\n",
            "    (0): LayerNorm((32,), eps=1e-05, elementwise_affine=True)\n",
            "    (1): Linear(in_features=32, out_features=37, bias=True)\n",
            "  )\n",
            ")\n",
            "after patch torch.Size([1, 32, 36, 36])\n",
            "after flatten torch.Size([1, 32, 1296])\n",
            "after transpose torch.Size([1, 1296, 32])\n"
          ]
        },
        {
          "output_type": "execute_result",
          "data": {
            "text/plain": [
              "tensor([[ 0.2854, -0.1852,  0.2888,  0.1892, -0.4187,  0.1629, -0.6740, -0.4691,\n",
              "          0.3448, -0.1879, -0.4464,  0.3888,  0.8779, -0.3254,  0.7555, -0.5407,\n",
              "         -0.0821, -0.3850, -0.0379, -0.7557,  0.5837, -0.0823,  0.4275, -0.8089,\n",
              "         -0.3892, -0.3435,  0.2637, -0.3229, -0.2170,  0.5829, -0.9651, -0.5030,\n",
              "         -0.0632, -0.9391,  0.4440, -0.1836, -0.4092]],\n",
              "       grad_fn=<AddmmBackward0>)"
            ]
          },
          "metadata": {},
          "execution_count": 24
        }
      ]
    },
    {
      "cell_type": "code",
      "source": [],
      "metadata": {
        "id": "VBUfiw4vs3PY"
      },
      "execution_count": null,
      "outputs": []
    }
  ]
}