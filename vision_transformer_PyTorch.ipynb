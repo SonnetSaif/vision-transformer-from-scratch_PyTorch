{
  "nbformat": 4,
  "nbformat_minor": 0,
  "metadata": {
    "colab": {
      "provenance": [],
      "authorship_tag": "ABX9TyMe+GjXXPFdlnDDlfyZbwBd",
      "include_colab_link": true
    },
    "kernelspec": {
      "name": "python3",
      "display_name": "Python 3"
    },
    "language_info": {
      "name": "python"
    }
  },
  "cells": [
    {
      "cell_type": "markdown",
      "metadata": {
        "id": "view-in-github",
        "colab_type": "text"
      },
      "source": [
        "<a href=\"https://colab.research.google.com/github/SonnetSaif/vision-transformer-from-scratch_PyTorch/blob/main/vision_transformer_PyTorch.ipynb\" target=\"_parent\"><img src=\"https://colab.research.google.com/assets/colab-badge.svg\" alt=\"Open In Colab\"/></a>"
      ]
    },
    {
      "cell_type": "code",
      "source": [
        "import torch\n",
        "import torch.nn as nn\n",
        "from torchvision.datasets import OxfordIIITPet\n",
        "from torchvision.transforms import Resize, ToTensor"
      ],
      "metadata": {
        "id": "aWO7AGUg-fHS"
      },
      "execution_count": 28,
      "outputs": []
    },
    {
      "cell_type": "code",
      "source": [
        "to_tensor = [Resize((144, 144)), ToTensor()]\n",
        "\n",
        "class Compose(object):\n",
        "    def __init__(self, transforms):\n",
        "        self.transforms = transforms\n",
        "\n",
        "    def __call__(self, image, target):\n",
        "        for t in self.transforms:\n",
        "            image = t(image)\n",
        "        return image, target"
      ],
      "metadata": {
        "id": "7_TTY9s9Beyd"
      },
      "execution_count": 29,
      "outputs": []
    },
    {
      "cell_type": "code",
      "source": [
        "dataset = OxfordIIITPet(root=\".\", download=True, transforms=Compose(to_tensor))"
      ],
      "metadata": {
        "id": "svAXLzqpBLY2"
      },
      "execution_count": 11,
      "outputs": []
    },
    {
      "cell_type": "markdown",
      "source": [
        "# Input Embedding"
      ],
      "metadata": {
        "id": "AHgjavAxWJRo"
      }
    },
    {
      "cell_type": "code",
      "execution_count": 30,
      "metadata": {
        "id": "xMrE4T5LywXN"
      },
      "outputs": [],
      "source": [
        "class PatchEmbedding(nn.Module):\n",
        "  def __init__(self, in_channels, patch_size, embed_dim):\n",
        "    super().__init__()\n",
        "    self.patch = nn.Conv2d(\n",
        "        in_channels=in_channels,\n",
        "        out_channels=embed_dim,\n",
        "        kernel_size=patch_size,\n",
        "        stride=patch_size\n",
        "    )\n",
        "\n",
        "  def forward(self, x):\n",
        "    # Flatten along dim = 2 to maintain channel dimension.\n",
        "    patches = self.patch(x)\n",
        "    print(\"after patch\", patches.shape)\n",
        "    patches = patches.flatten(2)\n",
        "    print(\"after flatten\", patches.shape)\n",
        "    patches = patches.transpose(1, 2)\n",
        "    print(\"after transpose\", patches.shape)\n",
        "    return patches"
      ]
    },
    {
      "cell_type": "code",
      "source": [
        "first = dataset[0][0]\n",
        "print(\"Initial shape:\", first.shape)\n",
        "sample_datapoint = torch.unsqueeze(dataset[0][0], 0)\n",
        "print(\"after unsqueeze: \", sample_datapoint.shape)\n",
        "embedding = PatchEmbedding(3, 8, 128)(sample_datapoint)\n",
        "print(\"final Patches shape: \", embedding.shape) #"
      ],
      "metadata": {
        "colab": {
          "base_uri": "https://localhost:8080/"
        },
        "id": "I8VDYLjR_Hl8",
        "outputId": "827ab6e5-316e-47ef-f0c0-65ef75afbfa3"
      },
      "execution_count": 31,
      "outputs": [
        {
          "output_type": "stream",
          "name": "stdout",
          "text": [
            "Initial shape: torch.Size([3, 144, 144])\n",
            "after unsqueeze:  torch.Size([1, 3, 144, 144])\n",
            "after patch torch.Size([1, 128, 18, 18])\n",
            "after flatten torch.Size([1, 128, 324])\n",
            "after transpose torch.Size([1, 324, 128])\n",
            "final Patches shape:  torch.Size([1, 324, 128])\n"
          ]
        }
      ]
    },
    {
      "cell_type": "markdown",
      "source": [
        "# Multi-Head Attention Block"
      ],
      "metadata": {
        "id": "-AVDcBI7WBAS"
      }
    },
    {
      "cell_type": "code",
      "source": [
        "class AttentionBlock(nn.Module):\n",
        "  def __init__(self, embed_dim, n_heads, dropout):\n",
        "    super().__init__()\n",
        "    self.n_heads = n_heads\n",
        "    self.attention = torch.nn.MultiheadAttention(embed_dim = embed_dim,\n",
        "                                                 num_heads = n_heads,\n",
        "                                                 dropout = dropout)\n",
        "\n",
        "    self.q = nn.Linear(embed_dim, embed_dim)\n",
        "    self.k = nn.Linear(embed_dim, embed_dim)\n",
        "    self.v = nn.Linear(embed_dim, embed_dim)\n",
        "\n",
        "  def forward(self, x):\n",
        "    q = self.q(x)\n",
        "    k = self.q(x)\n",
        "    v = self.q(x)\n",
        "    attention_output, attention_output_weights = self.attention(q, k, v)\n",
        "    return attention_output"
      ],
      "metadata": {
        "id": "M3oXh2ZvDhRX"
      },
      "execution_count": 32,
      "outputs": []
    },
    {
      "cell_type": "code",
      "source": [
        "AttentionBlock(embed_dim=128, n_heads=4, dropout=0.)\n",
        "# AttentionBlock(128, 4, 0.)"
      ],
      "metadata": {
        "colab": {
          "base_uri": "https://localhost:8080/"
        },
        "id": "zzxXF-4UDSk3",
        "outputId": "57dd3446-b4f7-4d1d-a42e-484925e48297"
      },
      "execution_count": 40,
      "outputs": [
        {
          "output_type": "execute_result",
          "data": {
            "text/plain": [
              "AttentionBlock(\n",
              "  (attention): MultiheadAttention(\n",
              "    (out_proj): NonDynamicallyQuantizableLinear(in_features=128, out_features=128, bias=True)\n",
              "  )\n",
              "  (q): Linear(in_features=128, out_features=128, bias=True)\n",
              "  (k): Linear(in_features=128, out_features=128, bias=True)\n",
              "  (v): Linear(in_features=128, out_features=128, bias=True)\n",
              ")"
            ]
          },
          "metadata": {},
          "execution_count": 40
        }
      ]
    },
    {
      "cell_type": "markdown",
      "source": [
        "Layer Normalization"
      ],
      "metadata": {
        "id": "DqM7w1bDW4Zb"
      }
    },
    {
      "cell_type": "code",
      "source": [
        "class LayerNorm(nn.Module):\n",
        "  def __init__(self, embed_dim, fn):\n",
        "    super().__init__()\n",
        "    self.norm = nn.LayerNorm(embed_dim)\n",
        "    self.fn = fn\n",
        "\n",
        "  def forward(self, x):\n",
        "    return self.fn(self.norm(x))"
      ],
      "metadata": {
        "id": "eKcymUHwEN6R"
      },
      "execution_count": 34,
      "outputs": []
    },
    {
      "cell_type": "code",
      "source": [
        "norm = LayerNorm(128, AttentionBlock(embed_dim=128, n_heads=4, dropout=0.))"
      ],
      "metadata": {
        "id": "fDlzhy7OXYhy"
      },
      "execution_count": 39,
      "outputs": []
    },
    {
      "cell_type": "code",
      "source": [],
      "metadata": {
        "id": "BVVvoBMDXzKq"
      },
      "execution_count": null,
      "outputs": []
    }
  ]
}