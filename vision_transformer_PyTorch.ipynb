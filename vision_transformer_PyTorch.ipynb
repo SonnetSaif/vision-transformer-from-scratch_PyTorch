{
  "nbformat": 4,
  "nbformat_minor": 0,
  "metadata": {
    "colab": {
      "provenance": [],
      "authorship_tag": "ABX9TyN6F0H3ycuYIV8Pe0PxKGpY",
      "include_colab_link": true
    },
    "kernelspec": {
      "name": "python3",
      "display_name": "Python 3"
    },
    "language_info": {
      "name": "python"
    }
  },
  "cells": [
    {
      "cell_type": "markdown",
      "metadata": {
        "id": "view-in-github",
        "colab_type": "text"
      },
      "source": [
        "<a href=\"https://colab.research.google.com/github/SonnetSaif/vision-transformer-from-scratch_PyTorch/blob/main/vision_transformer_PyTorch.ipynb\" target=\"_parent\"><img src=\"https://colab.research.google.com/assets/colab-badge.svg\" alt=\"Open In Colab\"/></a>"
      ]
    },
    {
      "cell_type": "code",
      "source": [
        "import torch\n",
        "import torch.nn as nn"
      ],
      "metadata": {
        "id": "aWO7AGUg-fHS"
      },
      "execution_count": 2,
      "outputs": []
    },
    {
      "cell_type": "code",
      "execution_count": 3,
      "metadata": {
        "id": "xMrE4T5LywXN"
      },
      "outputs": [],
      "source": [
        "class PatchEmbedding(nn.Module):\n",
        "  def __init__(self, in_channels, patch_size, embed_dim):\n",
        "    super().__init__()\n",
        "    self.patch = nn.Conv2d(\n",
        "        in_channels=in_channels,\n",
        "        out_channels=embed_dim,\n",
        "        kernel_size=patch_size,\n",
        "        stride=patch_size\n",
        "    )\n",
        "\n",
        "  def forward(self, x):\n",
        "    # Flatten along dim = 2 to maintain channel dimension.\n",
        "    patches = self.patch(x).flatten(2).transpose(1, 2)\n",
        "    return patches"
      ]
    },
    {
      "cell_type": "code",
      "source": [],
      "metadata": {
        "id": "I8VDYLjR_Hl8"
      },
      "execution_count": null,
      "outputs": []
    }
  ]
}